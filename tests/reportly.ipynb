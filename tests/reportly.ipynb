{
 "cells": [
  {
   "cell_type": "code",
   "execution_count": 1,
   "id": "dd5dca33-d854-403c-bb72-ab0253144891",
   "metadata": {},
   "outputs": [],
   "source": [
    "\n",
    "import seaborn as sns\n",
    "sns.set_theme(style=\"ticks\")\n",
    "\n",
    "# Load the example dataset for Anscombe's quartet\n",
    "df = sns.load_dataset(\"anscombe\")"
   ]
  },
  {
   "cell_type": "code",
   "execution_count": 2,
   "id": "64aa185f-1a71-4058-a99b-95d7bb2d933e",
   "metadata": {},
   "outputs": [],
   "source": [
    "from reportly import report, configure"
   ]
  },
  {
   "cell_type": "code",
   "execution_count": 3,
   "id": "e4e180f5-b88b-4822-bb67-f5cdbfd9bcb4",
   "metadata": {},
   "outputs": [],
   "source": [
    "from reportly import table, figure"
   ]
  },
  {
   "cell_type": "code",
   "execution_count": 4,
   "id": "b58ed859-fe68-47ed-8f60-b6391ad68552",
   "metadata": {},
   "outputs": [],
   "source": [
    "from bokeh.sampledata.autompg import autompg\n"
   ]
  },
  {
   "cell_type": "code",
   "execution_count": 5,
   "id": "3e94ecfd-064b-49b4-a166-f05acc657b88",
   "metadata": {},
   "outputs": [],
   "source": [
    "config = configure()"
   ]
  },
  {
   "cell_type": "code",
   "execution_count": 6,
   "id": "4e5babfa-978a-4768-8469-860afb033032",
   "metadata": {},
   "outputs": [],
   "source": [
    "report = report()"
   ]
  },
  {
   "cell_type": "code",
   "execution_count": 7,
   "id": "0e4b9f80-996d-4a3a-aff0-c86ca748ba27",
   "metadata": {},
   "outputs": [],
   "source": [
    "report.title = 'title'\n",
    "report.version = '1.0'\n",
    "report.subtitle = \"subtitle\"\n",
    "report.show_analysis_time = True\n",
    "report.creation_date = '2022-04-06'\n",
    "report.show_analysis_paths = './'\n",
    "report.analysis_dir = ['./abc', './bcd']\n"
   ]
  },
  {
   "cell_type": "code",
   "execution_count": 8,
   "id": "9a11f461-5b06-4532-9b2f-5ea7330bee52",
   "metadata": {},
   "outputs": [],
   "source": [
    "# plot\n",
    "import plotly.express as px\n",
    "df = px.data.tips()\n",
    "fig = px.histogram(df, x=\"total_bill\")\n",
    "# fig.show()\n",
    "\n",
    "fig01 = figure(fig, desc=\"fig01 legend\")\n",
    "table1 = table(autompg, section_idx=1, desc='table1 description', \n",
    "               comment='')\n",
    "\n",
    "\n",
    "table2 = table(autompg,section_idx=1, desc='table2 description', \n",
    "               comment='columns1 means sum; columns1 means mean;')\n",
    "\n",
    "sections = [\n",
    "    {\n",
    "        \"name\": \"Percent Mapped\",\n",
    "        \"anchor\": \"samtools-stats-alignmentaa\",\n",
    "        \"description\": \"<p>Table 01 Alignment metrics\\n from <code>samtools stats</code>; mapped vs. unmapped reads.</p>\",\n",
    "        \"comment\": \"\",\n",
    "        \"helptext\": \"<p>help text</p>\",\n",
    "        \"plot\": '%s' % fig01.to_html(),\n",
    "        \"content\": \"%s\" % table1.to_html_bootstrap(),\n",
    "        \"print_section\": True,\n",
    "        \n",
    "    },\n",
    "     {\n",
    "        \"name\": \"Percent Mapped\",\n",
    "        \"anchor\": \"samtools-stats-alignment\",\n",
    "        \"description\": \"<p> Table 02 Alignment metrics\\n from <code>samtools stats</code>; mapped vs. unmapped reads.</p>\",\n",
    "        \"comment\": \"\",\n",
    "        \"helptext\": \"<p>For a set of samples that have come from the same multiplexed library, \\nsimilar numbers of reads for each sample are expected. Large differences in numbers might \\nindicate issues during the library preparation process. Whilst large differences in read \\nnumbers may be controlled for in downstream processings (e.g. read count normalisation), \\nyou may wish to consider whether the read depths achieved have fallen below recommended \\nlevels depending on the applications.</p>\\n<p>Low alignment rates could indicate contamination of samples (e.g. adapter sequences), \\nlow sequencing quality or other artefacts. These can be further investigated in the \\nsequence level QC (e.g. from FastQC).</p>\",\n",
    "        \"plot\": '%s' % fig01.to_html(),\n",
    "        \"content\": \"%s\" % table2.to_html(),\n",
    "        \"print_section\": True,\n",
    "        \n",
    "    },\n",
    "]"
   ]
  },
  {
   "cell_type": "code",
   "execution_count": 9,
   "id": "171556ec-a79b-4622-8d2b-344f58a42444",
   "metadata": {},
   "outputs": [],
   "source": [
    "report.modules_output = [\n",
    "            {\n",
    "                \"sections\": sections,\n",
    "                \"description\": \"description\",\n",
    "                \"comment\": \"comment\",\n",
    "                \"anchor\": \"anchor anchor\",\n",
    "                \"name\": \"name\",\n",
    "                \"content\": \"content\",\n",
    "                \"helptext\": \"\",\n",
    "            },\n",
    "          \n",
    "        ]"
   ]
  },
  {
   "cell_type": "code",
   "execution_count": 10,
   "id": "3f1ffb31-ddf6-4f45-b832-e2b5531a13bf",
   "metadata": {},
   "outputs": [],
   "source": [
    "# report.table_script = Table.to_datatable_script()"
   ]
  },
  {
   "cell_type": "code",
   "execution_count": 11,
   "id": "8e319673-c55b-4e07-9eb3-2f654de92c67",
   "metadata": {},
   "outputs": [],
   "source": [
    "report.save('reportly.html', config)"
   ]
  },
  {
   "cell_type": "code",
   "execution_count": null,
   "id": "6edf6c6a-5a18-4452-aab7-d0844b2a514b",
   "metadata": {},
   "outputs": [],
   "source": []
  }
 ],
 "metadata": {
  "kernelspec": {
   "display_name": "Python 3 (ipykernel)",
   "language": "python",
   "name": "python3"
  },
  "language_info": {
   "codemirror_mode": {
    "name": "ipython",
    "version": 3
   },
   "file_extension": ".py",
   "mimetype": "text/x-python",
   "name": "python",
   "nbconvert_exporter": "python",
   "pygments_lexer": "ipython3",
   "version": "3.9.5"
  }
 },
 "nbformat": 4,
 "nbformat_minor": 5
}
